{
 "cells": [
  {
   "cell_type": "code",
   "execution_count": 1,
   "id": "03ca2d13",
   "metadata": {},
   "outputs": [
    {
     "name": "stdout",
     "output_type": "stream",
     "text": [
      "mu_1= 79.85628000000003\n",
      "mu_2= 0.016636725000000005\n",
      "mu_3= 321.82080840000015\n",
      "mu_4= 0.009242624999999999\n"
     ]
    }
   ],
   "source": [
    "delta = 0.012\n",
    "rho = 1.225\n",
    "s = 0.05\n",
    "A = 0.503\n",
    "omega = 300\n",
    "r = 0.4\n",
    "U_tip = 120\n",
    "k = 0.1\n",
    "v_0 = 4.03\n",
    "d_0 = 0.6\n",
    "\n",
    "P_0 = (delta / 8) * rho * s * A * (omega**3) * (r ** 3)\n",
    "\n",
    "mu_1 = P_0\n",
    "mu_2 = P_0 *(3 / (U_tip ** 2))\n",
    "mu_3 = P_0 * v_0\n",
    "mu_4 = (1/2) * d_0 * rho * s * A\n",
    "\n",
    "print(\"mu_1=\", mu_1)\n",
    "print(\"mu_2=\", mu_2)\n",
    "print(\"mu_3=\", mu_3)\n",
    "print(\"mu_4=\", mu_4)"
   ]
  },
  {
   "cell_type": "markdown",
   "id": "d907366d",
   "metadata": {},
   "source": [
    "$$ E(u,d) = ​\\mu_1\\frac{d}{v}+\\mu_2dv+\\mu_3\\frac{d}{v^2}+\\mu_4dv^2 $$\n",
    "$$= 79.8563\\frac{d}{v}+0.0166dv+321.8208\\frac{d}{v^2}+0.0092dv^2$$"
   ]
  }
 ],
 "metadata": {
  "kernelspec": {
   "display_name": "Python 3",
   "language": "python",
   "name": "python3"
  },
  "language_info": {
   "codemirror_mode": {
    "name": "ipython",
    "version": 3
   },
   "file_extension": ".py",
   "mimetype": "text/x-python",
   "name": "python",
   "nbconvert_exporter": "python",
   "pygments_lexer": "ipython3",
   "version": "3.12.2"
  }
 },
 "nbformat": 4,
 "nbformat_minor": 5
}
